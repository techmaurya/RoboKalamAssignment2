{
  "nbformat": 4,
  "nbformat_minor": 0,
  "metadata": {
    "colab": {
      "name": "FaceRecognition.ipynb",
      "provenance": [],
      "collapsed_sections": [],
      "authorship_tag": "ABX9TyOJ+b2j0UbRbgI34t9j1jTd",
      "include_colab_link": true
    },
    "kernelspec": {
      "name": "python3",
      "display_name": "Python 3"
    },
    "accelerator": "GPU"
  },
  "cells": [
    {
      "cell_type": "markdown",
      "metadata": {
        "id": "view-in-github",
        "colab_type": "text"
      },
      "source": [
        "<a href=\"https://colab.research.google.com/github/techmaurya/RoboKalamAssignment2/blob/main/FaceRecognition.ipynb\" target=\"_parent\"><img src=\"https://colab.research.google.com/assets/colab-badge.svg\" alt=\"Open In Colab\"/></a>"
      ]
    },
    {
      "cell_type": "code",
      "metadata": {
        "id": "H6kmZAABTXT-"
      },
      "source": [
        "import cv2\n",
        "import numpy as np\n",
        "import face_recognition\n",
        "\n",
        "imgSujeet = face_recognition.load_image_file('Images/Elon musk.jpg')\n",
        "imgSujeet = cv2.cvtColor(imgSujeet, cv2.COLOR_BGR2RGB)\n",
        "imgTest = face_recognition.load_image_file('Images/Sujeet Test.jpg')\n",
        "imgTest = cv2.cvtColor(imgTest, cv2.COLOR_BGR2RGB)\n",
        "\n",
        "faceLoc = face_recognition.face_locations(imgSujeet)[0]\n",
        "encodeSujeet = face_recognition.face_encodings(imgSujeet)[0]\n",
        "cv2.rectangle(imgSujeet, (faceLoc[3], faceLoc[0]), (faceLoc[1], faceLoc[2]), (255, 0, 255), 2)\n",
        "\n",
        "faceLocTest = face_recognition.face_locations(imgTest)[0]\n",
        "encodeTest = face_recognition.face_encodings(imgTest)[0]\n",
        "cv2.rectangle(imgTest, (faceLocTest[3], faceLocTest[0]), (faceLocTest[1], faceLocTest[2]), (255, 0, 255), 2)\n",
        "\n",
        "results = face_recognition.compare_faces([encodeSujeet], encodeTest)\n",
        "faceDis = face_recognition.face_distance([encodeSujeet], encodeTest)\n",
        "print(results, faceDis)\n",
        "cv2.putText(imgTest, f'{results} {round(faceDis[0], 2)}', (50, 50), cv2.FONT_HERSHEY_COMPLEX, 1, (0, 0, 255), 2)\n",
        "\n",
        "cv2.imshow('Sujeet Maurya', imgSujeet)\n",
        "cv2.imshow('Sujeet Maurya', imgTest)\n",
        "cv2.waitKey(0)\n",
        "cv2.destroyAllWindows()"
      ],
      "execution_count": 8,
      "outputs": []
    },
    {
      "cell_type": "code",
      "metadata": {
        "id": "3w2zIr2vadlv"
      },
      "source": [
        ""
      ],
      "execution_count": null,
      "outputs": []
    }
  ]
}